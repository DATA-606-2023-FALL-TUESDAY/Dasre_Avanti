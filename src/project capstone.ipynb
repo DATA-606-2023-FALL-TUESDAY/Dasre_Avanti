{
 "cells": [
  {
   "cell_type": "code",
   "execution_count": 1,
   "id": "67b31389",
   "metadata": {
    "_cell_guid": "b1076dfc-b9ad-4769-8c92-a6c4dae69d19",
    "_uuid": "8f2839f25d086af736a60e9eeb907d3b93b6e0e5",
    "papermill": {
     "duration": 0.404095,
     "end_time": "2023-09-11T20:15:27.652516",
     "exception": false,
     "start_time": "2023-09-11T20:15:27.248421",
     "status": "completed"
    },
    "tags": []
   },
   "outputs": [],
   "source": [
    "import numpy as np\n",
    "import pandas as pd\n",
    "import os, sys\n",
    "import matplotlib.pyplot as plt"
   ]
  },
  {
   "cell_type": "markdown",
   "id": "519564f6",
   "metadata": {
    "papermill": {
     "duration": 0.005228,
     "end_time": "2023-09-11T20:15:27.663446",
     "exception": false,
     "start_time": "2023-09-11T20:15:27.658218",
     "status": "completed"
    },
    "tags": []
   },
   "source": [
    "- Link to dataset: https://github.com/WING-NUS/JD2Skills-BERT-XMLC/tree/main/data"
   ]
  },
  {
   "cell_type": "code",
   "execution_count": 2,
   "id": "d086d8cd",
   "metadata": {
    "execution": {
     "iopub.execute_input": "2023-09-11T20:15:27.677328Z",
     "iopub.status.busy": "2023-09-11T20:15:27.676793Z",
     "iopub.status.idle": "2023-09-11T20:15:28.655604Z",
     "shell.execute_reply": "2023-09-11T20:15:28.654456Z"
    },
    "papermill": {
     "duration": 0.988819,
     "end_time": "2023-09-11T20:15:28.658076",
     "exception": false,
     "start_time": "2023-09-11T20:15:27.669257",
     "status": "completed"
    },
    "tags": []
   },
   "outputs": [
    {
     "name": "stdout",
     "output_type": "stream",
     "text": [
      "data dimensions: (20298, 16)\n"
     ]
    }
   ],
   "source": [
    "import json\n",
    "path = \"mycareerfuture-job-postings/mycareersfuture.json\"\n",
    "\n",
    "with open(path, 'r') as data_json:\n",
    "    f = json.load(data_json)\n",
    "    job_records = f['jobs']\n",
    "    \n",
    "data_df = pd.DataFrame.from_dict(job_records)\n",
    "print(\"data dimensions:\", data_df.shape)"
   ]
  },
  {
   "cell_type": "markdown",
   "id": "90e9c6fe",
   "metadata": {
    "papermill": {
     "duration": 0.005213,
     "end_time": "2023-09-11T20:15:28.668745",
     "exception": false,
     "start_time": "2023-09-11T20:15:28.663532",
     "status": "completed"
    },
    "tags": []
   },
   "source": [
    " - There are 20298 rows & 16 columns in the dataset."
   ]
  },
  {
   "cell_type": "code",
   "execution_count": 3,
   "id": "34c4f2aa",
   "metadata": {
    "execution": {
     "iopub.execute_input": "2023-09-11T20:15:28.681782Z",
     "iopub.status.busy": "2023-09-11T20:15:28.681235Z",
     "iopub.status.idle": "2023-09-11T20:15:28.687932Z",
     "shell.execute_reply": "2023-09-11T20:15:28.686705Z"
    },
    "papermill": {
     "duration": 0.016822,
     "end_time": "2023-09-11T20:15:28.690909",
     "exception": false,
     "start_time": "2023-09-11T20:15:28.674087",
     "status": "completed"
    },
    "tags": []
   },
   "outputs": [
    {
     "name": "stdout",
     "output_type": "stream",
     "text": [
      "column names:\n",
      "Index(['company_name', 'job_title', 'employment_type', 'seniority',\n",
      "       'job_category', 'location', 'salary', 'min_experience',\n",
      "       'skills_required', 'requirements_and_role', 'job_requirements',\n",
      "       'company_info', 'posting_date', 'expiry_date', 'no_of_applications',\n",
      "       'job_id'],\n",
      "      dtype='object')\n"
     ]
    }
   ],
   "source": [
    "print(\"column names:\")\n",
    "print(data_df.columns)"
   ]
  },
  {
   "cell_type": "code",
   "execution_count": 4,
   "id": "86f7b806",
   "metadata": {
    "execution": {
     "iopub.execute_input": "2023-09-11T20:15:28.703948Z",
     "iopub.status.busy": "2023-09-11T20:15:28.703436Z",
     "iopub.status.idle": "2023-09-11T20:15:28.735726Z",
     "shell.execute_reply": "2023-09-11T20:15:28.734733Z"
    },
    "papermill": {
     "duration": 0.042448,
     "end_time": "2023-09-11T20:15:28.738939",
     "exception": false,
     "start_time": "2023-09-11T20:15:28.696491",
     "status": "completed"
    },
    "tags": []
   },
   "outputs": [
    {
     "data": {
      "text/html": [
       "<div>\n",
       "<style scoped>\n",
       "    .dataframe tbody tr th:only-of-type {\n",
       "        vertical-align: middle;\n",
       "    }\n",
       "\n",
       "    .dataframe tbody tr th {\n",
       "        vertical-align: top;\n",
       "    }\n",
       "\n",
       "    .dataframe thead th {\n",
       "        text-align: right;\n",
       "    }\n",
       "</style>\n",
       "<table border=\"1\" class=\"dataframe\">\n",
       "  <thead>\n",
       "    <tr style=\"text-align: right;\">\n",
       "      <th></th>\n",
       "      <th>company_name</th>\n",
       "      <th>job_title</th>\n",
       "      <th>employment_type</th>\n",
       "      <th>seniority</th>\n",
       "      <th>job_category</th>\n",
       "      <th>location</th>\n",
       "      <th>salary</th>\n",
       "      <th>min_experience</th>\n",
       "      <th>skills_required</th>\n",
       "      <th>requirements_and_role</th>\n",
       "      <th>job_requirements</th>\n",
       "      <th>company_info</th>\n",
       "      <th>posting_date</th>\n",
       "      <th>expiry_date</th>\n",
       "      <th>no_of_applications</th>\n",
       "      <th>job_id</th>\n",
       "    </tr>\n",
       "  </thead>\n",
       "  <tbody>\n",
       "    <tr>\n",
       "      <th>0</th>\n",
       "      <td>THE SUPREME HR ADVISORY PTE. LTD.</td>\n",
       "      <td>Admin Assistant [$1.5k-$2.2k  /  Bukit Batuk  ...</td>\n",
       "      <td>Permanent, Full Time</td>\n",
       "      <td>Junior Executive</td>\n",
       "      <td>[Admin ,  Secretarial]</td>\n",
       "      <td>AZ @ PAYA LEBAR, 140 PAYA LEBAR ROAD 409015</td>\n",
       "      <td>$1,800to$2,200Monthly</td>\n",
       "      <td>1 year  exp</td>\n",
       "      <td>[Access, Customer Service, Data Entry, Employe...</td>\n",
       "      <td>providing support director admin manager assis...</td>\n",
       "      <td>requirements preferably least 1 year relevant exp</td>\n",
       "      <td>THE SUPREME HR ADVISORY PTE. LTD.\\nHere at The...</td>\n",
       "      <td>09 May 2019</td>\n",
       "      <td>08 Jun 2019</td>\n",
       "      <td>7</td>\n",
       "      <td>JOB-2019-0098255</td>\n",
       "    </tr>\n",
       "    <tr>\n",
       "      <th>1</th>\n",
       "      <td>GOOGLE ASIA PACIFIC PTE. LTD.</td>\n",
       "      <td>Visual Designer, Google Pay - Singapore</td>\n",
       "      <td>Full Time</td>\n",
       "      <td>Executive</td>\n",
       "      <td>[Design]</td>\n",
       "      <td>MARINA BAY FINANCIAL CENTRE, 8 MARINA BOULEVAR...</td>\n",
       "      <td>$6,700to$13,400Monthly</td>\n",
       "      <td>5 years  exp</td>\n",
       "      <td>[Adobe Creative Suite, Advertising, Art Direct...</td>\n",
       "      <td>company overview google conventional company i...</td>\n",
       "      <td>requirementsminimum qualifications ba bs degre...</td>\n",
       "      <td>GOOGLE ASIA PACIFIC PTE. LTD.\\n</td>\n",
       "      <td>09 May 2019</td>\n",
       "      <td>08 Jun 2019</td>\n",
       "      <td>43</td>\n",
       "      <td>JOB-2019-0098355</td>\n",
       "    </tr>\n",
       "    <tr>\n",
       "      <th>2</th>\n",
       "      <td>BBDO SINGAPORE PTE LTD</td>\n",
       "      <td>IT Manager</td>\n",
       "      <td>Permanent, Full Time</td>\n",
       "      <td>Manager, Professional</td>\n",
       "      <td>[Information Technology]</td>\n",
       "      <td>SINGAPORE LAND TOWER, 50 RAFFLES PLACE 048623</td>\n",
       "      <td>$5,000to$7,000Monthly</td>\n",
       "      <td>5 years  exp</td>\n",
       "      <td>[Active Directory, Business Analysis, Change M...</td>\n",
       "      <td>manager manager job involves vast array duties...</td>\n",
       "      <td>requirements 5 years management experience mul...</td>\n",
       "      <td>BBDO's mantra is “The Work. The Work. The W...</td>\n",
       "      <td>09 May 2019</td>\n",
       "      <td>08 Jun 2019</td>\n",
       "      <td>37</td>\n",
       "      <td>JOB-2019-0098419</td>\n",
       "    </tr>\n",
       "    <tr>\n",
       "      <th>3</th>\n",
       "      <td>AMARIS CONSULTING PTE. LTD.</td>\n",
       "      <td>Active Directory Consultant</td>\n",
       "      <td>Permanent, Full Time</td>\n",
       "      <td>Non-executive</td>\n",
       "      <td>[Information Technology]</td>\n",
       "      <td>ROBINSON 112, 112 ROBINSON ROAD 068902</td>\n",
       "      <td>$5,000to$7,000Monthly</td>\n",
       "      <td>4 years  exp</td>\n",
       "      <td>[Analysis, Business Analysis, Business Develop...</td>\n",
       "      <td>undertaking various active directory projects ...</td>\n",
       "      <td>requirements university degree computer scienc...</td>\n",
       "      <td>AMARIS CONSULTING PTE. LTD.</td>\n",
       "      <td>08 May 2019</td>\n",
       "      <td>07 Jun 2019</td>\n",
       "      <td>0</td>\n",
       "      <td>JOB-2019-0097764</td>\n",
       "    </tr>\n",
       "    <tr>\n",
       "      <th>4</th>\n",
       "      <td>HITACHI CONSULTING SINGAPORE PTE. LTD.</td>\n",
       "      <td>Senior Consultant (SAP HCM)</td>\n",
       "      <td>Permanent</td>\n",
       "      <td>Senior Executive</td>\n",
       "      <td>[Information Technology]</td>\n",
       "      <td>PLAZA 8 @ CBP, 1 CHANGI BUSINESS PARK CRESCENT...</td>\n",
       "      <td>$6,000to$9,000Monthly</td>\n",
       "      <td>8 years  exp</td>\n",
       "      <td>[Analysis, Business Analysis, Business Develop...</td>\n",
       "      <td>provide l2 support sap hcm related issues trou...</td>\n",
       "      <td>requirementsmust skills possess degree equival...</td>\n",
       "      <td>No information added.</td>\n",
       "      <td>08 May 2019</td>\n",
       "      <td>07 Jun 2019</td>\n",
       "      <td>3</td>\n",
       "      <td>JOB-2019-0098085</td>\n",
       "    </tr>\n",
       "  </tbody>\n",
       "</table>\n",
       "</div>"
      ],
      "text/plain": [
       "                             company_name  \\\n",
       "0       THE SUPREME HR ADVISORY PTE. LTD.   \n",
       "1           GOOGLE ASIA PACIFIC PTE. LTD.   \n",
       "2                  BBDO SINGAPORE PTE LTD   \n",
       "3             AMARIS CONSULTING PTE. LTD.   \n",
       "4  HITACHI CONSULTING SINGAPORE PTE. LTD.   \n",
       "\n",
       "                                           job_title       employment_type  \\\n",
       "0  Admin Assistant [$1.5k-$2.2k  /  Bukit Batuk  ...  Permanent, Full Time   \n",
       "1            Visual Designer, Google Pay - Singapore             Full Time   \n",
       "2                                         IT Manager  Permanent, Full Time   \n",
       "3                        Active Directory Consultant  Permanent, Full Time   \n",
       "4                        Senior Consultant (SAP HCM)             Permanent   \n",
       "\n",
       "               seniority              job_category  \\\n",
       "0       Junior Executive    [Admin ,  Secretarial]   \n",
       "1              Executive                  [Design]   \n",
       "2  Manager, Professional  [Information Technology]   \n",
       "3          Non-executive  [Information Technology]   \n",
       "4       Senior Executive  [Information Technology]   \n",
       "\n",
       "                                            location                  salary  \\\n",
       "0        AZ @ PAYA LEBAR, 140 PAYA LEBAR ROAD 409015   $1,800to$2,200Monthly   \n",
       "1  MARINA BAY FINANCIAL CENTRE, 8 MARINA BOULEVAR...  $6,700to$13,400Monthly   \n",
       "2      SINGAPORE LAND TOWER, 50 RAFFLES PLACE 048623   $5,000to$7,000Monthly   \n",
       "3             ROBINSON 112, 112 ROBINSON ROAD 068902   $5,000to$7,000Monthly   \n",
       "4  PLAZA 8 @ CBP, 1 CHANGI BUSINESS PARK CRESCENT...   $6,000to$9,000Monthly   \n",
       "\n",
       "  min_experience                                    skills_required  \\\n",
       "0    1 year  exp  [Access, Customer Service, Data Entry, Employe...   \n",
       "1   5 years  exp  [Adobe Creative Suite, Advertising, Art Direct...   \n",
       "2   5 years  exp  [Active Directory, Business Analysis, Change M...   \n",
       "3   4 years  exp  [Analysis, Business Analysis, Business Develop...   \n",
       "4   8 years  exp  [Analysis, Business Analysis, Business Develop...   \n",
       "\n",
       "                               requirements_and_role  \\\n",
       "0  providing support director admin manager assis...   \n",
       "1  company overview google conventional company i...   \n",
       "2  manager manager job involves vast array duties...   \n",
       "3  undertaking various active directory projects ...   \n",
       "4  provide l2 support sap hcm related issues trou...   \n",
       "\n",
       "                                    job_requirements  \\\n",
       "0  requirements preferably least 1 year relevant exp   \n",
       "1  requirementsminimum qualifications ba bs degre...   \n",
       "2  requirements 5 years management experience mul...   \n",
       "3  requirements university degree computer scienc...   \n",
       "4  requirementsmust skills possess degree equival...   \n",
       "\n",
       "                                        company_info posting_date  \\\n",
       "0  THE SUPREME HR ADVISORY PTE. LTD.\\nHere at The...  09 May 2019   \n",
       "1                    GOOGLE ASIA PACIFIC PTE. LTD.\\n  09 May 2019   \n",
       "2     BBDO's mantra is “The Work. The Work. The W...  09 May 2019   \n",
       "3                       AMARIS CONSULTING PTE. LTD.   08 May 2019   \n",
       "4                              No information added.  08 May 2019   \n",
       "\n",
       "   expiry_date no_of_applications            job_id  \n",
       "0  08 Jun 2019                  7  JOB-2019-0098255  \n",
       "1  08 Jun 2019                 43  JOB-2019-0098355  \n",
       "2  08 Jun 2019                 37  JOB-2019-0098419  \n",
       "3  07 Jun 2019                  0  JOB-2019-0097764  \n",
       "4  07 Jun 2019                  3  JOB-2019-0098085  "
      ]
     },
     "execution_count": 4,
     "metadata": {},
     "output_type": "execute_result"
    }
   ],
   "source": [
    "data_df.head()"
   ]
  },
  {
   "cell_type": "code",
   "execution_count": 5,
   "id": "4157a055",
   "metadata": {
    "execution": {
     "iopub.execute_input": "2023-09-11T20:15:28.752738Z",
     "iopub.status.busy": "2023-09-11T20:15:28.752343Z",
     "iopub.status.idle": "2023-09-11T20:15:28.804949Z",
     "shell.execute_reply": "2023-09-11T20:15:28.803782Z"
    },
    "papermill": {
     "duration": 0.062472,
     "end_time": "2023-09-11T20:15:28.807372",
     "exception": false,
     "start_time": "2023-09-11T20:15:28.744900",
     "status": "completed"
    },
    "tags": []
   },
   "outputs": [
    {
     "data": {
      "text/plain": [
       "company_name             0\n",
       "job_title                0\n",
       "employment_type          0\n",
       "seniority                0\n",
       "job_category             0\n",
       "location                 0\n",
       "salary                   0\n",
       "min_experience           0\n",
       "skills_required          0\n",
       "requirements_and_role    0\n",
       "job_requirements         0\n",
       "company_info             0\n",
       "posting_date             0\n",
       "expiry_date              0\n",
       "no_of_applications       0\n",
       "job_id                   0\n",
       "dtype: int64"
      ]
     },
     "execution_count": 5,
     "metadata": {},
     "output_type": "execute_result"
    }
   ],
   "source": [
    "data_df.isna().sum()"
   ]
  },
  {
   "cell_type": "code",
   "execution_count": 6,
   "id": "f6697797",
   "metadata": {
    "execution": {
     "iopub.execute_input": "2023-09-11T20:15:28.821570Z",
     "iopub.status.busy": "2023-09-11T20:15:28.821172Z",
     "iopub.status.idle": "2023-09-11T20:15:28.837450Z",
     "shell.execute_reply": "2023-09-11T20:15:28.836225Z"
    },
    "papermill": {
     "duration": 0.026375,
     "end_time": "2023-09-11T20:15:28.839933",
     "exception": false,
     "start_time": "2023-09-11T20:15:28.813558",
     "status": "completed"
    },
    "tags": []
   },
   "outputs": [
    {
     "name": "stdout",
     "output_type": "stream",
     "text": [
      "average skills per each job:  19.999310276874567\n"
     ]
    }
   ],
   "source": [
    "data_df['skill_count'] = data_df['skills_required'].apply(len)\n",
    "print(\"average skills per each job: \", data_df['skill_count'].mean())"
   ]
  },
  {
   "cell_type": "code",
   "execution_count": 7,
   "id": "ba3722a2",
   "metadata": {
    "execution": {
     "iopub.execute_input": "2023-09-11T20:15:28.854505Z",
     "iopub.status.busy": "2023-09-11T20:15:28.854113Z",
     "iopub.status.idle": "2023-09-11T20:15:29.232715Z",
     "shell.execute_reply": "2023-09-11T20:15:29.231397Z"
    },
    "papermill": {
     "duration": 0.388858,
     "end_time": "2023-09-11T20:15:29.235061",
     "exception": false,
     "start_time": "2023-09-11T20:15:28.846203",
     "status": "completed"
    },
    "tags": []
   },
   "outputs": [
    {
     "data": {
      "text/plain": [
       "<Axes: >"
      ]
     },
     "execution_count": 7,
     "metadata": {},
     "output_type": "execute_result"
    },
    {
     "data": {
      "image/png": "[encoded data removed]",
      "text/plain": [
       "<Figure size 640x480 with 1 Axes>"
      ]
     },
     "metadata": {},
     "output_type": "display_data"
    }
   ],
   "source": [
    "data_df['skill_count'].hist(bins=30)"
   ]
  },
  {
   "cell_type": "markdown",
   "id": "23fdfedc",
   "metadata": {
    "papermill": {
     "duration": 0.00658,
     "end_time": "2023-09-11T20:15:29.248673",
     "exception": false,
     "start_time": "2023-09-11T20:15:29.242093",
     "status": "completed"
    },
    "tags": []
   },
   "source": [
    "- Most jobs have skill counts around 20. The distribution is skewed towards left."
   ]
  },
  {
   "cell_type": "code",
   "execution_count": 8,
   "id": "32a101aa",
   "metadata": {
    "execution": {
     "iopub.execute_input": "2023-09-11T20:15:29.263585Z",
     "iopub.status.busy": "2023-09-11T20:15:29.263187Z",
     "iopub.status.idle": "2023-09-11T20:15:29.436151Z",
     "shell.execute_reply": "2023-09-11T20:15:29.434662Z"
    },
    "papermill": {
     "duration": 0.183419,
     "end_time": "2023-09-11T20:15:29.438672",
     "exception": false,
     "start_time": "2023-09-11T20:15:29.255253",
     "status": "completed"
    },
    "tags": []
   },
   "outputs": [
    {
     "name": "stdout",
     "output_type": "stream",
     "text": [
      "unique skills: 2548\n"
     ]
    }
   ],
   "source": [
    "all_skills = data_df['skills_required'].values.tolist()\n",
    "\n",
    "unique_skills = set()\n",
    "skill_counts = {}\n",
    "\n",
    "for sk_list in all_skills:\n",
    "    for sk in sk_list:\n",
    "        unique_skills.add(sk)\n",
    "        skill_counts[sk] = skill_counts.get(sk, 0) + 1\n",
    "        \n",
    "print(\"unique skills:\", len(unique_skills))"
   ]
  },
  {
   "cell_type": "code",
   "execution_count": 9,
   "id": "745e685e",
   "metadata": {
    "execution": {
     "iopub.execute_input": "2023-09-11T20:15:29.454145Z",
     "iopub.status.busy": "2023-09-11T20:15:29.453773Z",
     "iopub.status.idle": "2023-09-11T20:15:29.572053Z",
     "shell.execute_reply": "2023-09-11T20:15:29.570911Z"
    },
    "papermill": {
     "duration": 0.128547,
     "end_time": "2023-09-11T20:15:29.574202",
     "exception": false,
     "start_time": "2023-09-11T20:15:29.445655",
     "status": "completed"
    },
    "tags": []
   },
   "outputs": [
    {
     "data": {
      "text/plain": [
       "(2548, 2548)"
      ]
     },
     "execution_count": 9,
     "metadata": {},
     "output_type": "execute_result"
    }
   ],
   "source": [
    "skill_names, counts = zip(*sorted(skill_counts.items(), key=lambda x: x[1]))\n",
    "len(skill_names), len(counts)"
   ]
  },
  {
   "cell_type": "code",
   "execution_count": 10,
   "id": "86935fe0",
   "metadata": {
    "execution": {
     "iopub.execute_input": "2023-09-11T20:15:29.590080Z",
     "iopub.status.busy": "2023-09-11T20:15:29.589688Z",
     "iopub.status.idle": "2023-09-11T20:15:29.596873Z",
     "shell.execute_reply": "2023-09-11T20:15:29.595878Z"
    },
    "papermill": {
     "duration": 0.017825,
     "end_time": "2023-09-11T20:15:29.599288",
     "exception": false,
     "start_time": "2023-09-11T20:15:29.581463",
     "status": "completed"
    },
    "tags": []
   },
   "outputs": [
    {
     "data": {
      "text/plain": [
       "(('Business Development',\n",
       "  'Strategy',\n",
       "  'Sales',\n",
       "  'Strategic Planning',\n",
       "  'Marketing',\n",
       "  'Customer Service',\n",
       "  'Microsoft Office',\n",
       "  'Leadership',\n",
       "  'Project Management',\n",
       "  'Management'),\n",
       " (4997, 5196, 5536, 5730, 6186, 7124, 8346, 9451, 9624, 12914))"
      ]
     },
     "execution_count": 10,
     "metadata": {},
     "output_type": "execute_result"
    }
   ],
   "source": [
    "skill_names[-10:], counts[-10:]"
   ]
  },
  {
   "cell_type": "code",
   "execution_count": 11,
   "id": "7242627c",
   "metadata": {
    "execution": {
     "iopub.execute_input": "2023-09-11T20:15:29.615506Z",
     "iopub.status.busy": "2023-09-11T20:15:29.615121Z",
     "iopub.status.idle": "2023-09-11T20:15:29.923034Z",
     "shell.execute_reply": "2023-09-11T20:15:29.921713Z"
    },
    "papermill": {
     "duration": 0.319126,
     "end_time": "2023-09-11T20:15:29.925713",
     "exception": false,
     "start_time": "2023-09-11T20:15:29.606587",
     "status": "completed"
    },
    "tags": []
   },
   "outputs": [
    {
     "data": {
      "text/plain": [
       "Text(0.5, 1.0, 'Top Skills Mentioned in job postings')"
      ]
     },
     "execution_count": 11,
     "metadata": {},
     "output_type": "execute_result"
    },
    {
     "data": {
      "image/png": "[encoded data removed]",
      "text/plain": [
       "<Figure size 640x480 with 1 Axes>"
      ]
     },
     "metadata": {},
     "output_type": "display_data"
    }
   ],
   "source": [
    "plt.barh(skill_names[-10:], counts[-10:])\n",
    "plt.title(\"Top Skills Mentioned in job postings\")"
   ]
  },
  {
   "cell_type": "code",
   "execution_count": null,
   "id": "86b0fec0",
   "metadata": {
    "papermill": {
     "duration": 0.007296,
     "end_time": "2023-09-11T20:15:29.940817",
     "exception": false,
     "start_time": "2023-09-11T20:15:29.933521",
     "status": "completed"
    },
    "tags": []
   },
   "outputs": [],
   "source": []
  }
 ],
 "metadata": {
  "kernelspec": {
   "display_name": "Python 3 (ipykernel)",
   "language": "python",
   "name": "python3"
  },
  "language_info": {
   "codemirror_mode": {
    "name": "ipython",
    "version": 3
   },
   "file_extension": ".py",
   "mimetype": "text/x-python",
   "name": "python",
   "nbconvert_exporter": "python",
   "pygments_lexer": "ipython3",
   "version": "3.10.6"
  },
  "papermill": {
   "default_parameters": {},
   "duration": 6.727567,
   "end_time": "2023-09-11T20:15:30.568607",
   "environment_variables": {},
   "exception": null,
   "input_path": "__notebook__.ipynb",
   "output_path": "__notebook__.ipynb",
   "parameters": {},
   "start_time": "2023-09-11T20:15:23.841040",
   "version": "2.4.0"
  }
 },
 "nbformat": 4,
 "nbformat_minor": 5
}
